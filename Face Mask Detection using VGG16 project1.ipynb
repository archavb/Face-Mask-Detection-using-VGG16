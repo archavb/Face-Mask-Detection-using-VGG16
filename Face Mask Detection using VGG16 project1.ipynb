{
 "cells": [
  {
   "cell_type": "markdown",
   "id": "b67a6490",
   "metadata": {},
   "source": [
    "<span style = \"color:blue; font-size:40px\">FACE MASK DETECTION  USING VGG16 </span>"
   ]
  },
  {
   "cell_type": "code",
   "execution_count": 1,
   "id": "7941d77c",
   "metadata": {},
   "outputs": [],
   "source": [
    "import numpy as np\n",
    "import pandas as pd\n",
    "import matplotlib.pyplot as plt\n",
    "import seaborn as sns\n",
    "import cv2\n",
    "import glob\n",
    "import tensorflow as tf\n",
    "from tensorflow import keras\n",
    "from tensorflow.keras import layers\n",
    "from sklearn.utils import shuffle\n",
    "from skimage.transform import resize\n",
    "from sklearn.metrics import accuracy_score,confusion_matrix,classification_report"
   ]
  },
  {
   "cell_type": "code",
   "execution_count": 2,
   "id": "083bdd9f",
   "metadata": {},
   "outputs": [],
   "source": [
    "mask = glob.glob(\"C:/Users/archa/Downloads/FACEMASK/with_mask/*.jpg\")[0:500]\n",
    "no_mask = glob.glob(\"C:/Users/archa/Downloads/FACEMASK/without_mask/*.jpg\")[0:500]"
   ]
  },
  {
   "cell_type": "code",
   "execution_count": 3,
   "id": "50820f5e",
   "metadata": {},
   "outputs": [
    {
     "data": {
      "text/plain": [
       "500"
      ]
     },
     "execution_count": 3,
     "metadata": {},
     "output_type": "execute_result"
    }
   ],
   "source": [
    "len(no_mask)"
   ]
  },
  {
   "cell_type": "code",
   "execution_count": 4,
   "id": "00f08e53",
   "metadata": {},
   "outputs": [
    {
     "data": {
      "text/plain": [
       "500"
      ]
     },
     "execution_count": 4,
     "metadata": {},
     "output_type": "execute_result"
    }
   ],
   "source": [
    "len(mask)"
   ]
  },
  {
   "cell_type": "code",
   "execution_count": 5,
   "id": "f304b47b",
   "metadata": {},
   "outputs": [],
   "source": [
    "image = []\n",
    "label = []\n",
    "\n",
    "for i in mask:\n",
    "    img = plt.imread(i)\n",
    "    image.append(img)\n",
    "    label.append(0)\n",
    "    \n",
    "for i in no_mask:\n",
    "    img = plt.imread(i)\n",
    "    image.append(img)\n",
    "    label.append(1)"
   ]
  },
  {
   "cell_type": "code",
   "execution_count": 6,
   "id": "3828fa05",
   "metadata": {},
   "outputs": [],
   "source": [
    "image, label = shuffle(image, label)"
   ]
  },
  {
   "cell_type": "code",
   "execution_count": 7,
   "id": "4ac8b17c",
   "metadata": {},
   "outputs": [],
   "source": [
    "X = []\n",
    "for i in image:\n",
    "    X.append(resize(i,(224,224,3)))\n",
    "X = np.array(X)"
   ]
  },
  {
   "cell_type": "code",
   "execution_count": 8,
   "id": "85df1d79",
   "metadata": {},
   "outputs": [],
   "source": [
    "y = np.array(label)"
   ]
  },
  {
   "cell_type": "code",
   "execution_count": 9,
   "id": "6d600ea5",
   "metadata": {},
   "outputs": [],
   "source": [
    "from sklearn.model_selection import train_test_split"
   ]
  },
  {
   "cell_type": "code",
   "execution_count": 10,
   "id": "3d7ac5bb",
   "metadata": {},
   "outputs": [],
   "source": [
    "X_train,X_test,y_train,y_test=train_test_split(X,y,test_size=0.2)"
   ]
  },
  {
   "cell_type": "code",
   "execution_count": 11,
   "id": "3f1bfc7e",
   "metadata": {},
   "outputs": [
    {
     "data": {
      "text/plain": [
       "(800, 224, 224, 3)"
      ]
     },
     "execution_count": 11,
     "metadata": {},
     "output_type": "execute_result"
    }
   ],
   "source": [
    "X_train.shape"
   ]
  },
  {
   "cell_type": "code",
   "execution_count": 12,
   "id": "c5aeac90",
   "metadata": {},
   "outputs": [
    {
     "data": {
      "text/plain": [
       "(800,)"
      ]
     },
     "execution_count": 12,
     "metadata": {},
     "output_type": "execute_result"
    }
   ],
   "source": [
    "y_train.shape"
   ]
  },
  {
   "cell_type": "code",
   "execution_count": 13,
   "id": "52e0fd3a",
   "metadata": {},
   "outputs": [],
   "source": [
    "from keras.applications.vgg16 import VGG16\n",
    "from tensorflow.keras.layers import Input, Lambda, Dense, Flatten\n",
    "from tensorflow.keras.models import Model, Sequential\n",
    "from tensorflow.keras.applications.vgg16 import VGG16\n",
    "from tensorflow.keras.applications.vgg16 import preprocess_input"
   ]
  },
  {
   "cell_type": "code",
   "execution_count": 14,
   "id": "9e4581df",
   "metadata": {},
   "outputs": [],
   "source": [
    "vgg16 = VGG16(weights='imagenet', include_top=False)"
   ]
  },
  {
   "cell_type": "code",
   "execution_count": 15,
   "id": "b3fa1fbf",
   "metadata": {},
   "outputs": [],
   "source": [
    "for layer in vgg16.layers:\n",
    "    layer.trainable = False"
   ]
  },
  {
   "cell_type": "code",
   "execution_count": 16,
   "id": "9ff5c9b3",
   "metadata": {},
   "outputs": [],
   "source": [
    "vgg16 = VGG16(input_shape=(224, 224, 3), weights='imagenet', include_top=False)\n",
    "\n",
    "x = Flatten()(vgg16.output)\n",
    "x = Dense(1024, activation='relu')(x)\n",
    "x = Dense(1024, activation='relu')(x)\n",
    "x = Dense(512, activation='relu')(x)\n",
    "dense_output = Dense(2, activation='softmax')(x)"
   ]
  },
  {
   "cell_type": "code",
   "execution_count": 30,
   "id": "d532fdb9",
   "metadata": {},
   "outputs": [
    {
     "name": "stdout",
     "output_type": "stream",
     "text": [
      "Model: \"vgg16\"\n",
      "_________________________________________________________________\n",
      " Layer (type)                Output Shape              Param #   \n",
      "=================================================================\n",
      " input_2 (InputLayer)        [(None, 224, 224, 3)]     0         \n",
      "                                                                 \n",
      " block1_conv1 (Conv2D)       (None, 224, 224, 64)      1792      \n",
      "                                                                 \n",
      " block1_conv2 (Conv2D)       (None, 224, 224, 64)      36928     \n",
      "                                                                 \n",
      " block1_pool (MaxPooling2D)  (None, 112, 112, 64)      0         \n",
      "                                                                 \n",
      " block2_conv1 (Conv2D)       (None, 112, 112, 128)     73856     \n",
      "                                                                 \n",
      " block2_conv2 (Conv2D)       (None, 112, 112, 128)     147584    \n",
      "                                                                 \n",
      " block2_pool (MaxPooling2D)  (None, 56, 56, 128)       0         \n",
      "                                                                 \n",
      " block3_conv1 (Conv2D)       (None, 56, 56, 256)       295168    \n",
      "                                                                 \n",
      " block3_conv2 (Conv2D)       (None, 56, 56, 256)       590080    \n",
      "                                                                 \n",
      " block3_conv3 (Conv2D)       (None, 56, 56, 256)       590080    \n",
      "                                                                 \n",
      " block3_pool (MaxPooling2D)  (None, 28, 28, 256)       0         \n",
      "                                                                 \n",
      " block4_conv1 (Conv2D)       (None, 28, 28, 512)       1180160   \n",
      "                                                                 \n",
      " block4_conv2 (Conv2D)       (None, 28, 28, 512)       2359808   \n",
      "                                                                 \n",
      " block4_conv3 (Conv2D)       (None, 28, 28, 512)       2359808   \n",
      "                                                                 \n",
      " block4_pool (MaxPooling2D)  (None, 14, 14, 512)       0         \n",
      "                                                                 \n",
      " block5_conv1 (Conv2D)       (None, 14, 14, 512)       2359808   \n",
      "                                                                 \n",
      " block5_conv2 (Conv2D)       (None, 14, 14, 512)       2359808   \n",
      "                                                                 \n",
      " block5_conv3 (Conv2D)       (None, 14, 14, 512)       2359808   \n",
      "                                                                 \n",
      " block5_pool (MaxPooling2D)  (None, 7, 7, 512)         0         \n",
      "                                                                 \n",
      "=================================================================\n",
      "Total params: 14,714,688\n",
      "Trainable params: 14,714,688\n",
      "Non-trainable params: 0\n",
      "_________________________________________________________________\n"
     ]
    }
   ],
   "source": [
    "vgg16.summary()"
   ]
  },
  {
   "cell_type": "code",
   "execution_count": 45,
   "id": "13da68b1",
   "metadata": {},
   "outputs": [],
   "source": [
    "model=Sequential([\n",
    "    layers.Flatten(input_shape=(224,224,3)),\n",
    "    layers.Dense(128,activation='relu'),\n",
    "    layers.Dense(64,activation='relu'),\n",
    "    layers.Dense(1,activation='sigmoid')\n",
    "])"
   ]
  },
  {
   "cell_type": "code",
   "execution_count": 35,
   "id": "53683863",
   "metadata": {},
   "outputs": [],
   "source": [
    "model.compile(loss='binary_crossentropy', optimizer='adam', metrics=['accuracy'])"
   ]
  },
  {
   "cell_type": "code",
   "execution_count": 20,
   "id": "12787f3a",
   "metadata": {},
   "outputs": [
    {
     "name": "stdout",
     "output_type": "stream",
     "text": [
      "Epoch 1/50\n",
      "23/23 [==============================] - 15s 471ms/step - loss: 15.6320 - accuracy: 0.5181 - val_loss: 4.7562 - val_accuracy: 0.6375\n",
      "Epoch 2/50\n",
      "23/23 [==============================] - 10s 418ms/step - loss: 1.5821 - accuracy: 0.7625 - val_loss: 1.4123 - val_accuracy: 0.7375\n",
      "Epoch 3/50\n",
      "23/23 [==============================] - 10s 420ms/step - loss: 0.8150 - accuracy: 0.8083 - val_loss: 1.3163 - val_accuracy: 0.7125\n",
      "Epoch 4/50\n",
      "23/23 [==============================] - 9s 406ms/step - loss: 0.3895 - accuracy: 0.8778 - val_loss: 0.2619 - val_accuracy: 0.9125\n",
      "Epoch 5/50\n",
      "23/23 [==============================] - 9s 404ms/step - loss: 0.2252 - accuracy: 0.9222 - val_loss: 0.3860 - val_accuracy: 0.8500\n",
      "Epoch 6/50\n",
      "23/23 [==============================] - 9s 403ms/step - loss: 0.4610 - accuracy: 0.8431 - val_loss: 0.2414 - val_accuracy: 0.9375\n",
      "Epoch 7/50\n",
      "23/23 [==============================] - 9s 397ms/step - loss: 0.3513 - accuracy: 0.8958 - val_loss: 1.1309 - val_accuracy: 0.6875\n",
      "Epoch 8/50\n",
      "23/23 [==============================] - 9s 397ms/step - loss: 0.5896 - accuracy: 0.8597 - val_loss: 1.0756 - val_accuracy: 0.6875\n",
      "Epoch 9/50\n",
      "23/23 [==============================] - 9s 395ms/step - loss: 0.2672 - accuracy: 0.9097 - val_loss: 0.2098 - val_accuracy: 0.9375\n",
      "Epoch 10/50\n",
      "23/23 [==============================] - 9s 400ms/step - loss: 0.4269 - accuracy: 0.8889 - val_loss: 0.2031 - val_accuracy: 0.9500\n",
      "Epoch 11/50\n",
      "23/23 [==============================] - 9s 399ms/step - loss: 0.1647 - accuracy: 0.9417 - val_loss: 0.2642 - val_accuracy: 0.9000\n",
      "Epoch 12/50\n",
      "23/23 [==============================] - 9s 393ms/step - loss: 0.2666 - accuracy: 0.9153 - val_loss: 0.1865 - val_accuracy: 0.9625\n",
      "Epoch 13/50\n",
      "23/23 [==============================] - 9s 390ms/step - loss: 0.1250 - accuracy: 0.9583 - val_loss: 0.2030 - val_accuracy: 0.9250\n",
      "Epoch 14/50\n",
      "23/23 [==============================] - 9s 395ms/step - loss: 0.3822 - accuracy: 0.8833 - val_loss: 0.9394 - val_accuracy: 0.8000\n",
      "Epoch 15/50\n",
      "23/23 [==============================] - 9s 394ms/step - loss: 0.2259 - accuracy: 0.9278 - val_loss: 0.2408 - val_accuracy: 0.9625\n",
      "Epoch 16/50\n",
      "23/23 [==============================] - 9s 398ms/step - loss: 0.1374 - accuracy: 0.9514 - val_loss: 0.1937 - val_accuracy: 0.9500\n",
      "Epoch 17/50\n",
      "23/23 [==============================] - 9s 402ms/step - loss: 0.0814 - accuracy: 0.9694 - val_loss: 0.1929 - val_accuracy: 0.9625\n",
      "Epoch 18/50\n",
      "23/23 [==============================] - 9s 391ms/step - loss: 0.1056 - accuracy: 0.9625 - val_loss: 0.1675 - val_accuracy: 0.9500\n",
      "Epoch 19/50\n",
      "23/23 [==============================] - 9s 391ms/step - loss: 0.0716 - accuracy: 0.9722 - val_loss: 0.1744 - val_accuracy: 0.9625\n",
      "Epoch 20/50\n",
      "23/23 [==============================] - 9s 393ms/step - loss: 0.0967 - accuracy: 0.9639 - val_loss: 0.1878 - val_accuracy: 0.9500\n",
      "Epoch 21/50\n",
      "23/23 [==============================] - 9s 394ms/step - loss: 0.0999 - accuracy: 0.9611 - val_loss: 0.1453 - val_accuracy: 0.9500\n",
      "Epoch 22/50\n",
      "23/23 [==============================] - 9s 396ms/step - loss: 0.0792 - accuracy: 0.9681 - val_loss: 0.3435 - val_accuracy: 0.9125\n",
      "Epoch 23/50\n",
      "23/23 [==============================] - 9s 410ms/step - loss: 0.2127 - accuracy: 0.9389 - val_loss: 0.1708 - val_accuracy: 0.9500\n",
      "Epoch 24/50\n",
      "23/23 [==============================] - 9s 401ms/step - loss: 0.0648 - accuracy: 0.9764 - val_loss: 0.1583 - val_accuracy: 0.9375\n",
      "Epoch 25/50\n",
      "23/23 [==============================] - 9s 400ms/step - loss: 0.0647 - accuracy: 0.9736 - val_loss: 0.4070 - val_accuracy: 0.8750\n",
      "Epoch 26/50\n",
      "23/23 [==============================] - 9s 392ms/step - loss: 0.1251 - accuracy: 0.9556 - val_loss: 0.1453 - val_accuracy: 0.9375\n",
      "Epoch 27/50\n",
      "23/23 [==============================] - 9s 394ms/step - loss: 0.0741 - accuracy: 0.9792 - val_loss: 0.1393 - val_accuracy: 0.9500\n",
      "Epoch 28/50\n",
      "23/23 [==============================] - 9s 392ms/step - loss: 0.0891 - accuracy: 0.9722 - val_loss: 0.1317 - val_accuracy: 0.9500\n",
      "Epoch 29/50\n",
      "23/23 [==============================] - 9s 395ms/step - loss: 0.0273 - accuracy: 0.9917 - val_loss: 0.1172 - val_accuracy: 0.9625\n",
      "Epoch 30/50\n",
      "23/23 [==============================] - 9s 400ms/step - loss: 0.1859 - accuracy: 0.9361 - val_loss: 0.1930 - val_accuracy: 0.9250\n",
      "Epoch 31/50\n",
      "23/23 [==============================] - 9s 394ms/step - loss: 0.1834 - accuracy: 0.9347 - val_loss: 0.2753 - val_accuracy: 0.9500\n",
      "Epoch 32/50\n",
      "23/23 [==============================] - 9s 401ms/step - loss: 0.3015 - accuracy: 0.9167 - val_loss: 0.2539 - val_accuracy: 0.9375\n",
      "Epoch 33/50\n",
      "23/23 [==============================] - 9s 394ms/step - loss: 0.4416 - accuracy: 0.8931 - val_loss: 0.1898 - val_accuracy: 0.9625\n",
      "Epoch 34/50\n",
      "23/23 [==============================] - 9s 396ms/step - loss: 0.1132 - accuracy: 0.9667 - val_loss: 0.1261 - val_accuracy: 0.9500\n",
      "Epoch 35/50\n",
      "23/23 [==============================] - 9s 393ms/step - loss: 0.1240 - accuracy: 0.9597 - val_loss: 0.3810 - val_accuracy: 0.9125\n",
      "Epoch 36/50\n",
      "23/23 [==============================] - 9s 403ms/step - loss: 0.1194 - accuracy: 0.9556 - val_loss: 0.1587 - val_accuracy: 0.9500\n",
      "Epoch 37/50\n",
      "23/23 [==============================] - 9s 398ms/step - loss: 0.0722 - accuracy: 0.9694 - val_loss: 0.1476 - val_accuracy: 0.9500\n",
      "Epoch 38/50\n",
      "23/23 [==============================] - 9s 413ms/step - loss: 0.0467 - accuracy: 0.9889 - val_loss: 0.2114 - val_accuracy: 0.9500\n",
      "Epoch 39/50\n",
      "23/23 [==============================] - 9s 398ms/step - loss: 0.0317 - accuracy: 0.9903 - val_loss: 0.1506 - val_accuracy: 0.9375\n",
      "Epoch 40/50\n",
      "23/23 [==============================] - 9s 393ms/step - loss: 0.0240 - accuracy: 0.9944 - val_loss: 0.1089 - val_accuracy: 0.9500\n",
      "Epoch 41/50\n",
      "23/23 [==============================] - 9s 392ms/step - loss: 0.0219 - accuracy: 0.9931 - val_loss: 0.1414 - val_accuracy: 0.9625\n",
      "Epoch 42/50\n",
      "23/23 [==============================] - 9s 395ms/step - loss: 0.0202 - accuracy: 0.9903 - val_loss: 0.1557 - val_accuracy: 0.9625\n",
      "Epoch 43/50\n",
      "23/23 [==============================] - 9s 401ms/step - loss: 0.0173 - accuracy: 0.9931 - val_loss: 0.1633 - val_accuracy: 0.9500\n",
      "Epoch 44/50\n",
      "23/23 [==============================] - 9s 396ms/step - loss: 0.0090 - accuracy: 0.9986 - val_loss: 0.1423 - val_accuracy: 0.9375\n",
      "Epoch 45/50\n",
      "23/23 [==============================] - 9s 400ms/step - loss: 0.0194 - accuracy: 0.9903 - val_loss: 0.1400 - val_accuracy: 0.9375\n",
      "Epoch 46/50\n",
      "23/23 [==============================] - 9s 401ms/step - loss: 0.0246 - accuracy: 0.9917 - val_loss: 0.1620 - val_accuracy: 0.9375\n",
      "Epoch 47/50\n",
      "23/23 [==============================] - 9s 405ms/step - loss: 0.0397 - accuracy: 0.9792 - val_loss: 0.1834 - val_accuracy: 0.9250\n",
      "Epoch 48/50\n",
      "23/23 [==============================] - 10s 440ms/step - loss: 0.0115 - accuracy: 0.9986 - val_loss: 0.1536 - val_accuracy: 0.9375\n",
      "Epoch 49/50\n",
      "23/23 [==============================] - 10s 449ms/step - loss: 0.0225 - accuracy: 0.9917 - val_loss: 0.2186 - val_accuracy: 0.9375\n",
      "Epoch 50/50\n",
      "23/23 [==============================] - 10s 449ms/step - loss: 0.0210 - accuracy: 0.9944 - val_loss: 0.1364 - val_accuracy: 0.9375\n"
     ]
    },
    {
     "data": {
      "text/plain": [
       "<keras.callbacks.History at 0x237001311c0>"
      ]
     },
     "execution_count": 20,
     "metadata": {},
     "output_type": "execute_result"
    }
   ],
   "source": [
    "model.fit(X_train,y_train,epochs=50,validation_split = 0.1)"
   ]
  },
  {
   "cell_type": "code",
   "execution_count": 32,
   "id": "dc4ea0fa",
   "metadata": {},
   "outputs": [
    {
     "name": "stdout",
     "output_type": "stream",
     "text": [
      "Model: \"sequential_1\"\n",
      "_________________________________________________________________\n",
      " Layer (type)                Output Shape              Param #   \n",
      "=================================================================\n",
      " flatten_2 (Flatten)         (None, 150528)            0         \n",
      "                                                                 \n",
      " dense_7 (Dense)             (None, 128)               19267712  \n",
      "                                                                 \n",
      " dense_8 (Dense)             (None, 64)                8256      \n",
      "                                                                 \n",
      " dense_9 (Dense)             (None, 1)                 65        \n",
      "                                                                 \n",
      "=================================================================\n",
      "Total params: 19,276,033\n",
      "Trainable params: 19,276,033\n",
      "Non-trainable params: 0\n",
      "_________________________________________________________________\n"
     ]
    }
   ],
   "source": [
    "model.summary()"
   ]
  },
  {
   "cell_type": "code",
   "execution_count": 36,
   "id": "b60aefd3",
   "metadata": {},
   "outputs": [
    {
     "name": "stdout",
     "output_type": "stream",
     "text": [
      "25/25 [==============================] - 1s 24ms/step - loss: 0.6654 - accuracy: 0.6363\n"
     ]
    },
    {
     "data": {
      "text/plain": [
       "[0.665385901927948, 0.6362500190734863]"
      ]
     },
     "execution_count": 36,
     "metadata": {},
     "output_type": "execute_result"
    }
   ],
   "source": [
    "model.evaluate(X_train,y_train)"
   ]
  },
  {
   "cell_type": "code",
   "execution_count": 37,
   "id": "3690f76c",
   "metadata": {},
   "outputs": [
    {
     "name": "stdout",
     "output_type": "stream",
     "text": [
      "7/7 [==============================] - 0s 20ms/step\n"
     ]
    }
   ],
   "source": [
    "model=model.predict(X_test)"
   ]
  },
  {
   "cell_type": "code",
   "execution_count": 38,
   "id": "1e7c838b",
   "metadata": {},
   "outputs": [
    {
     "data": {
      "text/plain": [
       "array([[0.41301438],\n",
       "       [0.47133413],\n",
       "       [0.42128426],\n",
       "       [0.4771517 ],\n",
       "       [0.51485014],\n",
       "       [0.4402734 ],\n",
       "       [0.5058617 ],\n",
       "       [0.46318993],\n",
       "       [0.45239896],\n",
       "       [0.5022378 ],\n",
       "       [0.40466422],\n",
       "       [0.5136436 ],\n",
       "       [0.4665946 ],\n",
       "       [0.44434547],\n",
       "       [0.57449824],\n",
       "       [0.47124597],\n",
       "       [0.4215308 ],\n",
       "       [0.4974    ],\n",
       "       [0.4054238 ],\n",
       "       [0.51311994],\n",
       "       [0.50587505],\n",
       "       [0.5622299 ],\n",
       "       [0.41853255],\n",
       "       [0.46912217],\n",
       "       [0.43244052],\n",
       "       [0.4118812 ],\n",
       "       [0.3946928 ],\n",
       "       [0.5176239 ],\n",
       "       [0.46365476],\n",
       "       [0.39458308],\n",
       "       [0.4904169 ],\n",
       "       [0.6116709 ],\n",
       "       [0.48623592],\n",
       "       [0.42466503],\n",
       "       [0.4077582 ],\n",
       "       [0.513816  ],\n",
       "       [0.435155  ],\n",
       "       [0.4501192 ],\n",
       "       [0.4982265 ],\n",
       "       [0.4506052 ],\n",
       "       [0.46151564],\n",
       "       [0.5029422 ],\n",
       "       [0.32947302],\n",
       "       [0.49807775],\n",
       "       [0.53192633],\n",
       "       [0.501146  ],\n",
       "       [0.4807471 ],\n",
       "       [0.45897773],\n",
       "       [0.5479077 ],\n",
       "       [0.575974  ],\n",
       "       [0.4612377 ],\n",
       "       [0.32950124],\n",
       "       [0.52601725],\n",
       "       [0.48186156],\n",
       "       [0.4840733 ],\n",
       "       [0.49348593],\n",
       "       [0.47406608],\n",
       "       [0.49106866],\n",
       "       [0.38228667],\n",
       "       [0.41210103],\n",
       "       [0.5000738 ],\n",
       "       [0.5130426 ],\n",
       "       [0.5430909 ],\n",
       "       [0.44342405],\n",
       "       [0.4544187 ],\n",
       "       [0.5201143 ],\n",
       "       [0.4431095 ],\n",
       "       [0.44461513],\n",
       "       [0.4593364 ],\n",
       "       [0.42032665],\n",
       "       [0.39624348],\n",
       "       [0.37380096],\n",
       "       [0.42274532],\n",
       "       [0.4310179 ],\n",
       "       [0.4149313 ],\n",
       "       [0.5277442 ],\n",
       "       [0.5059349 ],\n",
       "       [0.50381935],\n",
       "       [0.4648848 ],\n",
       "       [0.42752507],\n",
       "       [0.6071311 ],\n",
       "       [0.43848592],\n",
       "       [0.5597385 ],\n",
       "       [0.42884722],\n",
       "       [0.5065721 ],\n",
       "       [0.46790743],\n",
       "       [0.565386  ],\n",
       "       [0.52638173],\n",
       "       [0.35188773],\n",
       "       [0.51695067],\n",
       "       [0.50167125],\n",
       "       [0.4982265 ],\n",
       "       [0.48320085],\n",
       "       [0.45634225],\n",
       "       [0.48928362],\n",
       "       [0.46620536],\n",
       "       [0.5403684 ],\n",
       "       [0.4882508 ],\n",
       "       [0.49751443],\n",
       "       [0.41442186],\n",
       "       [0.5786906 ],\n",
       "       [0.4878486 ],\n",
       "       [0.5585843 ],\n",
       "       [0.47121197],\n",
       "       [0.5102496 ],\n",
       "       [0.40567875],\n",
       "       [0.45508516],\n",
       "       [0.47693062],\n",
       "       [0.52630466],\n",
       "       [0.49016377],\n",
       "       [0.42897356],\n",
       "       [0.44589278],\n",
       "       [0.5125382 ],\n",
       "       [0.36432713],\n",
       "       [0.5365121 ],\n",
       "       [0.4334516 ],\n",
       "       [0.48698008],\n",
       "       [0.41715384],\n",
       "       [0.47145307],\n",
       "       [0.4620497 ],\n",
       "       [0.5021168 ],\n",
       "       [0.4136498 ],\n",
       "       [0.41202798],\n",
       "       [0.5243521 ],\n",
       "       [0.55552536],\n",
       "       [0.47621888],\n",
       "       [0.46053526],\n",
       "       [0.4933733 ],\n",
       "       [0.4321819 ],\n",
       "       [0.5065742 ],\n",
       "       [0.46335712],\n",
       "       [0.45834786],\n",
       "       [0.47780642],\n",
       "       [0.45979863],\n",
       "       [0.49284473],\n",
       "       [0.5002843 ],\n",
       "       [0.4303572 ],\n",
       "       [0.49338663],\n",
       "       [0.50587094],\n",
       "       [0.503009  ],\n",
       "       [0.44979647],\n",
       "       [0.45318338],\n",
       "       [0.39800423],\n",
       "       [0.46914423],\n",
       "       [0.49767554],\n",
       "       [0.49153724],\n",
       "       [0.4911715 ],\n",
       "       [0.3662449 ],\n",
       "       [0.43662775],\n",
       "       [0.50280076],\n",
       "       [0.524975  ],\n",
       "       [0.606743  ],\n",
       "       [0.51984274],\n",
       "       [0.4822435 ],\n",
       "       [0.40674248],\n",
       "       [0.4775349 ],\n",
       "       [0.5283696 ],\n",
       "       [0.570442  ],\n",
       "       [0.4835745 ],\n",
       "       [0.45587638],\n",
       "       [0.43881533],\n",
       "       [0.4582316 ],\n",
       "       [0.45239896],\n",
       "       [0.47280574],\n",
       "       [0.45239028],\n",
       "       [0.50677854],\n",
       "       [0.52002347],\n",
       "       [0.532159  ],\n",
       "       [0.5794192 ],\n",
       "       [0.542124  ],\n",
       "       [0.5900635 ],\n",
       "       [0.57402986],\n",
       "       [0.45251957],\n",
       "       [0.41025108],\n",
       "       [0.565386  ],\n",
       "       [0.56310475],\n",
       "       [0.5662272 ],\n",
       "       [0.48668322],\n",
       "       [0.45213616],\n",
       "       [0.50677854],\n",
       "       [0.40444595],\n",
       "       [0.5412516 ],\n",
       "       [0.44439906],\n",
       "       [0.42185143],\n",
       "       [0.52460843],\n",
       "       [0.54908496],\n",
       "       [0.4476635 ],\n",
       "       [0.5747146 ],\n",
       "       [0.37816456],\n",
       "       [0.39840755],\n",
       "       [0.44352263],\n",
       "       [0.42646605],\n",
       "       [0.34096128],\n",
       "       [0.39301014],\n",
       "       [0.46879524],\n",
       "       [0.4943519 ],\n",
       "       [0.44927844],\n",
       "       [0.51992774],\n",
       "       [0.4411225 ],\n",
       "       [0.5454252 ]], dtype=float32)"
      ]
     },
     "execution_count": 38,
     "metadata": {},
     "output_type": "execute_result"
    }
   ],
   "source": [
    "model"
   ]
  },
  {
   "cell_type": "code",
   "execution_count": 39,
   "id": "559701fc",
   "metadata": {},
   "outputs": [],
   "source": [
    "predict = []\n",
    "for i in model:\n",
    "    if i >0.5:\n",
    "        predict.append(0)\n",
    "    else:\n",
    "            predict.append(1)"
   ]
  },
  {
   "cell_type": "code",
   "execution_count": 40,
   "id": "a0082a47",
   "metadata": {},
   "outputs": [
    {
     "data": {
      "text/plain": [
       "[1, 1, 1, 1, 0, 1, 0, 1, 1, 0]"
      ]
     },
     "execution_count": 40,
     "metadata": {},
     "output_type": "execute_result"
    }
   ],
   "source": [
    "predict[:10]"
   ]
  },
  {
   "cell_type": "code",
   "execution_count": 41,
   "id": "c5ddcd92",
   "metadata": {},
   "outputs": [],
   "source": [
    "from tensorflow.keras.preprocessing import image\n"
   ]
  },
  {
   "cell_type": "code",
   "execution_count": 49,
   "id": "0adce2bd",
   "metadata": {},
   "outputs": [
    {
     "name": "stdout",
     "output_type": "stream",
     "text": [
      "1/1 [==============================] - 0s 34ms/step\n",
      "With Mask\n"
     ]
    }
   ],
   "source": [
    "test_image= image.load_img(\"C:/Users/archa/Downloads/FACEMASK/with_mask/with_mask_100.jpg\",target_size=(224,224,3))\n",
    "test_image=image.img_to_array(test_image)\n",
    "test_image=np.expand_dims(test_image,axis=0)\n",
    "result=model.predict(test_image)\n",
    "#result=model.predict_classes(test_image)\n",
    "result[0][0]\n",
    "if result[0][0] < 0.5:\n",
    "    print ('With Mask')\n",
    "else:\n",
    "    print('Without Mask')"
   ]
  },
  {
   "cell_type": "code",
   "execution_count": null,
   "id": "afbecafc",
   "metadata": {},
   "outputs": [],
   "source": []
  },
  {
   "cell_type": "code",
   "execution_count": null,
   "id": "81ad6bb3",
   "metadata": {},
   "outputs": [],
   "source": []
  }
 ],
 "metadata": {
  "kernelspec": {
   "display_name": "Python 3 (ipykernel)",
   "language": "python",
   "name": "python3"
  },
  "language_info": {
   "codemirror_mode": {
    "name": "ipython",
    "version": 3
   },
   "file_extension": ".py",
   "mimetype": "text/x-python",
   "name": "python",
   "nbconvert_exporter": "python",
   "pygments_lexer": "ipython3",
   "version": "3.9.12"
  }
 },
 "nbformat": 4,
 "nbformat_minor": 5
}
